{
 "cells": [
  {
   "cell_type": "code",
   "execution_count": null,
   "metadata": {},
   "outputs": [],
   "source": [
    "import numpy as np\n",
    "import pickle\n",
    "import torch\n",
    "from torchvision import datasets, transforms\n",
    "from torch.utils.data import Dataset, DataLoader\n",
    "import torch.nn as nn\n",
    "import torch.nn.functional as F\n",
    "import seaborn as sns\n",
    "import os\n",
    "import time\n",
    "import sys\n",
    "import pandas as pd\n",
    "import time\n",
    "import matplotlib.pyplot as plt\n",
    "# import torch.optim as optim\n",
    "from FwFM_Network import FwFM_ForCELoss, FwFM_Logits\n",
    "from Utils import CreateDataset, runCodeGreedy, retBidsAndCamps2nd, retBidsAndCampsGreedy, spendAndRevenuePerAdvertiser, createTrValTestData\n",
    "from Utils_res import get_total_measures_per_run_camp, create_df_from_dict, conv_to_dict_w_arrays, conv_to_dict_w_arrays\n",
    "print('Load libraries')"
   ]
  },
  {
   "cell_type": "markdown",
   "metadata": {},
   "source": [
    "## Read Data and fixed some parameters"
   ]
  },
  {
   "cell_type": "code",
   "execution_count": null,
   "metadata": {},
   "outputs": [],
   "source": [
    "current_directory = os.getcwd()\n",
    "pathToReadData = os.path.join(current_directory, 'DataForPred/')\n",
    "\n",
    "mult_for_cost = 100\n",
    "# seed to use does not affect the result\n",
    "seed_to_use = 17\n",
    "num_of_indxs_to_use = 128\n",
    "\n",
    "# We do not need q here. \n",
    "X_Train, X_Val, X_Test, extra_train, extra_val, extra_test, target , _, lbs, \\\n",
    "    camps_identifiers, num_advs, avg_cost_per_conv = \\\n",
    "    createTrValTestData(pathToReadData, mult_for_cost, seed_to_use, num_of_indxs_to_use)\n",
    "\n",
    "np.random.seed(12369)\n",
    "possible_seeds = np.random.choice(np.arange(1000000) + 1, size = 100, replace = False)\n"
   ]
  },
  {
   "source": [
    "### Number of test points, number of iterations run, and maxBudgets"
   ],
   "cell_type": "markdown",
   "metadata": {}
  },
  {
   "cell_type": "code",
   "execution_count": null,
   "metadata": {},
   "outputs": [],
   "source": [
    "totPoints = X_Test.size()[0]\n",
    "numIte = int(totPoints/num_of_indxs_to_use)\n",
    "maxBudgets = (target * numIte).numpy()"
   ]
  },
  {
   "source": [
    "## Get Results for Dual Method"
   ],
   "cell_type": "markdown",
   "metadata": {}
  },
  {
   "cell_type": "code",
   "execution_count": null,
   "metadata": {
    "tags": []
   },
   "outputs": [],
   "source": [
    "index_step_or_bid = 0\n",
    "num_of_sims = 100\n",
    "path_raw_results = \"path_to_stored_raw_results/\"\n",
    "pathToReadResults_2nd = os.path.join(path_raw_results, 'Results2nd/')"
   ]
  },
  {
   "cell_type": "code",
   "execution_count": null,
   "metadata": {
    "tags": []
   },
   "outputs": [],
   "source": [
    "possible_step_sizes = [1.0, 0.5, 0.1, 0.05, 0.01, 0.005, 0.001, 0.0005, 0.0001]\n",
    "profit_all_2nd, spend_all_2nd, vio_all_2nd, ites_budget_all_2nd = {}, {}, {}, {}\n",
    "for index_step in range(len(possible_step_sizes)):\n",
    "    start_time = time.time()\n",
    "    profit_aux, spend_aux, vio_all_aux, ites_budgets_aux = \\\n",
    "        get_total_measures_per_run_camp(index_step, num_of_sims, numIte, num_advs, maxBudgets, pathToReadResults_2nd)\n",
    "    profit_all_2nd[possible_step_sizes[index_step]] = profit_aux\n",
    "    spend_all_2nd[possible_step_sizes[index_step]] = spend_aux\n",
    "    vio_all_2nd[possible_step_sizes[index_step]] = vio_all_aux\n",
    "    ites_budget_all_2nd[possible_step_sizes[index_step]] = ites_budgets_aux\n",
    "    print('Finishing getting aggregated data for step_size ' + str(possible_step_sizes[index_step]), end = ', ')\n",
    "    print('took ' + str(time.time() - start_time) + ' secs.')"
   ]
  },
  {
   "source": [
    "## Get Results Greedy Method"
   ],
   "cell_type": "markdown",
   "metadata": {}
  },
  {
   "cell_type": "code",
   "execution_count": null,
   "metadata": {},
   "outputs": [],
   "source": [
    "pathToReadResults_Gr = os.path.join(path_raw_results, 'ResultsGr/')\n",
    "num_of_sims_Gr = 100"
   ]
  },
  {
   "cell_type": "code",
   "execution_count": null,
   "metadata": {},
   "outputs": [],
   "source": [
    "possible_bid_mult= [0.5 + 0.05 * i for i in range(21)]\n",
    "possible_bid_mult.extend([0.25 + 0.05*i for i in range(5)])\n",
    "index_to_use = [i for i in range(11)]\n",
    "index_to_use.extend([i for i in range(21, 26)])\n",
    "profit_all_Gr, spend_all_Gr, vio_all_Gr, ites_budget_all_Gr = {}, {}, {}, {}\n",
    "for index_bid in index_to_use:\n",
    "    start_time = time.time()\n",
    "    profit_aux, spend_aux, vio_all_aux, ites_budgets_aux = \\\n",
    "        get_total_measures_per_run_camp(index_bid, num_of_sims_Gr, numIte, num_advs, maxBudgets, pathToReadResults_Gr)\n",
    "    profit_all_Gr[possible_bid_mult[index_bid]] = profit_aux\n",
    "    spend_all_Gr[possible_bid_mult[index_bid]] = spend_aux\n",
    "    vio_all_Gr[possible_bid_mult[index_bid]] = vio_all_aux\n",
    "    ites_budget_all_Gr[possible_bid_mult[index_bid]] = ites_budgets_aux\n",
    "    print('Finishing getting aggregated data for bid multiplier ' + str(possible_bid_mult[index_bid]), end = ', ')\n",
    "    print('took ' + str(time.time() - start_time) + ' secs.')"
   ]
  },
  {
   "source": [
    "# Get budget utilization per campaign"
   ],
   "cell_type": "markdown",
   "metadata": {}
  },
  {
   "cell_type": "code",
   "execution_count": null,
   "metadata": {},
   "outputs": [],
   "source": [
    "budget_util_all_2nd, budget_util_all_greedy = {}, {}\n",
    "\n",
    "for key_name in list(spend_all_2nd.keys()):\n",
    "    budget_util_all_2nd[key_name] = np.zeros((num_of_sims, num_advs))\n",
    "    for i in range(num_of_sims):\n",
    "        budget_util_all_2nd[key_name][i,:] =  spend_all_2nd[key_name][i,:]/maxBudgets\n",
    "\n",
    "for key_name in list(spend_all_Gr.keys()):\n",
    "    budget_util_all_greedy[key_name] = np.zeros((num_of_sims_Gr, num_advs))\n",
    "    for i in range(num_of_sims_Gr):\n",
    "        budget_util_all_greedy[key_name][i,:] =  spend_all_Gr[key_name][i,:]/maxBudgets"
   ]
  },
  {
   "cell_type": "code",
   "execution_count": null,
   "metadata": {},
   "outputs": [],
   "source": [
    "budget_util_avg_2nd, budget_util_avg_Gr = {}, {}\n",
    "for key_name in list(profit_all_2nd.keys()):\n",
    "    budget_util_avg_2nd[key_name] =  np.average(budget_util_all_2nd[key_name], axis=0)\n",
    "\n",
    "for key_name in list(profit_all_Gr.keys()):\n",
    "    budget_util_avg_Gr[key_name] =  np.average(budget_util_all_greedy[key_name], axis=0)"
   ]
  },
  {
   "source": [
    "## Process data for the average exceed time"
   ],
   "cell_type": "markdown",
   "metadata": {}
  },
  {
   "cell_type": "code",
   "execution_count": null,
   "metadata": {},
   "outputs": [],
   "source": [
    "ite_exceed_dict_2nd =  conv_to_dict_w_arrays(ites_budget_all_2nd, -1, numIte)\n",
    "ite_exceed_dict_Gr =  conv_to_dict_w_arrays(ites_budget_all_Gr, -1, numIte)"
   ]
  },
  {
   "source": [
    "profit_tot_2nd, spend_tot_2nd, vio_avg_2nd = {}, {}, {}\n",
    "profit_tot_Gr, spend_tot_Gr, vio_avg_Gr = {}, {}, {}"
   ],
   "cell_type": "code",
   "metadata": {},
   "execution_count": null,
   "outputs": []
  },
  {
   "cell_type": "code",
   "execution_count": null,
   "metadata": {},
   "outputs": [],
   "source": [
    "for key_name in list(profit_all_2nd.keys()):\n",
    "    profit_tot_2nd[key_name] =  np.sum(profit_all_2nd[key_name], axis=1)\n",
    "    spend_tot_2nd[key_name] =  np.sum(spend_all_2nd[key_name], axis=1)\n",
    "    vio_avg_2nd[key_name] =  np.average(vio_all_2nd[key_name], axis=0)\n",
    "\n",
    "for key_name in list(profit_all_Gr.keys()):\n",
    "    profit_tot_Gr[key_name] =  np.sum(profit_all_Gr[key_name], axis=1)\n",
    "    spend_tot_Gr[key_name] =  np.sum(spend_all_Gr[key_name], axis=1)\n",
    "    vio_avg_Gr[key_name] =  np.average(vio_all_Gr[key_name], axis=0)"
   ]
  },
  {
   "source": [
    "# Just to print, check the average values on profit_tot_2nd and profit_tot_Gr"
   ],
   "cell_type": "markdown",
   "metadata": {}
  },
  {
   "cell_type": "code",
   "execution_count": null,
   "metadata": {},
   "outputs": [],
   "source": [
    "for key_name in profit_tot_2nd.keys():\n",
    "    print(str(key_name) + ', profit ' + str(np.average(profit_tot_2nd[key_name])) + ', median ' + str(np.median(profit_tot_2nd[key_name])))\n",
    "print()\n",
    "for key_name in profit_tot_Gr.keys():\n",
    "    print(str(key_name) + ', profit ' + str(np.average(profit_tot_Gr[key_name])) + ', median ' + str(np.median(profit_tot_Gr[key_name])))"
   ]
  },
  {
   "source": [
    "## Get dataframes for Profit, Spend , First Exceed"
   ],
   "cell_type": "markdown",
   "metadata": {}
  },
  {
   "cell_type": "code",
   "execution_count": null,
   "metadata": {},
   "outputs": [],
   "source": [
    "pd_tot_profit_2nd = create_df_from_dict(profit_tot_2nd, 'step_size', 'total_profit')\n",
    "pd_tot_profit_Gr = create_df_from_dict(profit_tot_Gr, 'bid_multiplier', 'total_profit')\n",
    "pd_tot_spend_2nd = create_df_from_dict(spend_tot_2nd, 'step_size', 'total_spend')\n",
    "pd_tot_spend_Gr = create_df_from_dict(spend_tot_Gr, 'bid_multiplier', 'total_spend')\n",
    "pd_vio_camp_2nd = create_df_from_dict(vio_avg_2nd, 'step_size', 'vio_per_adv')\n",
    "pd_vio_camp_Gr = create_df_from_dict(vio_avg_Gr, 'step_size', 'vio_per_adv')\n",
    "pd_ite_vio_2nd = create_df_from_dict(ite_exceed_dict_2nd, 'step_size', 'first_vio')\n",
    "pd_ite_vio_Gr = create_df_from_dict(ite_exceed_dict_Gr, 'bid_multiplier', 'first_vio')\n",
    "pd_budget_util_2nd = create_df_from_dict(budget_util_avg_2nd, 'step_size', 'budget_utilization')\n",
    "pd_budget_util_Gr = create_df_from_dict(budget_util_avg_Gr, 'bid_multiplier', 'budget_utilization')"
   ]
  },
  {
   "cell_type": "code",
   "execution_count": null,
   "metadata": {},
   "outputs": [],
   "source": [
    "len(vio_avg_2nd[1.0])"
   ]
  },
  {
   "source": [
    "# Results Dual Method"
   ],
   "cell_type": "markdown",
   "metadata": {}
  },
  {
   "cell_type": "code",
   "execution_count": null,
   "metadata": {},
   "outputs": [],
   "source": [
    "sns.boxplot(x=\"step_size\", y=\"total_profit\", data=pd_tot_profit_2nd);"
   ]
  },
  {
   "cell_type": "code",
   "execution_count": null,
   "metadata": {},
   "outputs": [],
   "source": [
    "sns.boxplot(x=\"step_size\", y=\"total_spend\", data=pd_tot_spend_2nd);"
   ]
  },
  {
   "cell_type": "code",
   "execution_count": null,
   "metadata": {},
   "outputs": [],
   "source": [
    "sns.boxplot(x=\"step_size\", y=\"first_vio\", data=pd_ite_vio_2nd);"
   ]
  },
  {
   "cell_type": "code",
   "execution_count": null,
   "metadata": {},
   "outputs": [],
   "source": [
    "sns.boxplot(x=\"step_size\", y=\"budget_utilization\", data=pd_budget_util_2nd);"
   ]
  },
  {
   "cell_type": "code",
   "execution_count": null,
   "metadata": {},
   "outputs": [],
   "source": [
    "sns.boxplot(x=\"step_size\", y=\"vio_per_adv\", data=pd_vio_camp_2nd);"
   ]
  },
  {
   "source": [
    "# Results Greedy Policy"
   ],
   "cell_type": "markdown",
   "metadata": {}
  },
  {
   "cell_type": "code",
   "execution_count": null,
   "metadata": {},
   "outputs": [],
   "source": [
    "sns.boxplot(x=\"bid_multiplier\", y=\"total_profit\", data=pd_tot_profit_Gr);"
   ]
  },
  {
   "cell_type": "code",
   "execution_count": null,
   "metadata": {},
   "outputs": [],
   "source": [
    "sns.boxplot(x=\"bid_multiplier\", y=\"total_spend\", data=pd_tot_spend_Gr);"
   ]
  },
  {
   "cell_type": "code",
   "execution_count": null,
   "metadata": {},
   "outputs": [],
   "source": [
    "sns.boxplot(x=\"bid_multiplier\", y=\"first_vio\", data=pd_ite_vio_Gr);"
   ]
  },
  {
   "cell_type": "code",
   "execution_count": null,
   "metadata": {},
   "outputs": [],
   "source": [
    "sns.boxplot(x=\"bid_multiplier\", y=\"budget_utilization\", data=pd_budget_util_Gr);"
   ]
  },
  {
   "cell_type": "code",
   "execution_count": null,
   "metadata": {},
   "outputs": [],
   "source": [
    "sns.boxplot(x=\"step_size\", y=\"vio_per_adv\", data=pd_vio_camp_Gr);"
   ]
  },
  {
   "source": [
    "## Results to show"
   ],
   "cell_type": "markdown",
   "metadata": {}
  },
  {
   "cell_type": "code",
   "execution_count": null,
   "metadata": {},
   "outputs": [],
   "source": [
    "best_profit_2nd = pd_tot_profit_2nd[pd_tot_profit_2nd['step_size'] == 0.05]\n",
    "best_profit_Gr = pd_tot_profit_Gr[pd_tot_profit_Gr['bid_multiplier'] == 0.25]\n",
    "\n",
    "best_vio_2nd = pd_vio_camp_2nd[pd_vio_camp_2nd['step_size'] == 0.05]\n",
    "best_vio_Gr = pd_vio_camp_Gr[pd_vio_camp_Gr['step_size'] == 0.25]\n",
    "\n",
    "best_bu_2nd = pd_budget_util_2nd[pd_budget_util_2nd['step_size'] == 0.05]\n",
    "best_bu_Gr = pd_budget_util_Gr[pd_budget_util_Gr['bid_multiplier'] == 0.25]\n",
    "\n",
    "total_profit = np.array(list(best_profit_2nd['total_profit'])+ list(best_profit_Gr['total_profit']))\n",
    "array_vio_camps = np.array(list(best_vio_2nd['vio_per_adv'])+ list(best_vio_Gr['vio_per_adv']))\n",
    "array_bu_camps = np.array(list(best_bu_2nd['budget_utilization'])+ list(best_bu_Gr['budget_utilization']))\n",
    "\n",
    "method_names_profit = ['Our Method' for i in range(100)] + ['Heuristic' for i in range(100)]\n",
    "method_names_vio = ['Our Method' for i in range(130)] + ['Heuristic' for i in range(130)]\n"
   ]
  },
  {
   "cell_type": "code",
   "execution_count": null,
   "metadata": {},
   "outputs": [],
   "source": [
    "df_profit_for_show = pd.DataFrame({'Total Profit': total_profit, 'Method Name': method_names_profit}) \n",
    "df_vio_for_show = pd.DataFrame({'Iteration Budget Depleted': array_vio_camps, 'Method Name': method_names_vio}) \n",
    "df_bu_for_show = pd.DataFrame({'Budget Utilization': array_bu_camps, 'Method Name': method_names_vio}) "
   ]
  },
  {
   "cell_type": "code",
   "execution_count": null,
   "metadata": {},
   "outputs": [],
   "source": [
    "fig, (ax1, ax2, ax3) = plt.subplots(1,3,figsize=(10,4))\n",
    "\n",
    "sns.boxplot(y=\"Method Name\", x=\"Total Profit\", data=df_profit_for_show, ax=ax1)\n",
    "sns.boxplot(y=\"Method Name\", x=\"Iteration Budget Depleted\", data=df_vio_for_show, ax=ax3)\n",
    "sns.boxplot(y=\"Method Name\", x=\"Budget Utilization\", data=df_bu_for_show, ax=ax2)\n",
    "\n",
    "ax1.set_yticklabels(['Our Method', 'Heuristic'], rotation = 90, fontsize = 14)\n",
    "ax1.set(ylabel = \"\")\n",
    "ax1.xaxis.label.set_size(14)\n",
    "ax2.label_outer()\n",
    "ax2.xaxis.label.set_size(14)\n",
    "ax3.label_outer()\n",
    "ax3.xaxis.label.set_size(14)\n",
    "\n",
    "\n",
    "SMALL_SIZE = 8\n",
    "MEDIUM_SIZE = 10\n",
    "BIGGER_SIZE = 12\n",
    "\n",
    "fig.tight_layout()\n",
    "\n",
    "plt.rc('font', size=BIGGER_SIZE)  \n",
    "plt.savefig('box_plots_online_2nd.png')\n",
    "plt.show()\n"
   ]
  },
  {
   "cell_type": "code",
   "execution_count": null,
   "metadata": {},
   "outputs": [],
   "source": [
    "plt.style.use('seaborn-whitegrid')\n",
    "plt.xscale('log')\n",
    "plt.xlabel(\"Proportional budget w.r.t. maximum (log. scale) \")\n",
    "plt.ylabel(\"Average depletion time\")\n",
    "plt.rc('axes', labelsize=16)\n",
    "plt.scatter(maxBudgets/np.max(maxBudgets), np.array(best_vio_2nd['vio_per_adv']), marker='o');\n",
    "plt.tight_layout()\n",
    "plt.savefig('TimeVsRelativeBudget.png')"
   ]
  },
  {
   "cell_type": "code",
   "execution_count": null,
   "metadata": {},
   "outputs": [],
   "source": []
  }
 ],
 "metadata": {
  "kernelspec": {
   "name": "python3",
   "display_name": "Python 3.6.10 64-bit ('anaconda3': virtualenv)",
   "metadata": {
    "interpreter": {
     "hash": "3ad234c443914697ca60a92558b03d9939c6a0552bdeb426593918d3a8c4e784"
    }
   }
  },
  "language_info": {
   "codemirror_mode": {
    "name": "ipython",
    "version": 3
   },
   "file_extension": ".py",
   "mimetype": "text/x-python",
   "name": "python",
   "nbconvert_exporter": "python",
   "pygments_lexer": "ipython3",
   "version": "3.6.10-final"
  }
 },
 "nbformat": 4,
 "nbformat_minor": 4
}