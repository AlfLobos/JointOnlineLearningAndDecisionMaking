{
 "cells": [
  {
   "cell_type": "code",
   "execution_count": null,
   "metadata": {},
   "outputs": [],
   "source": [
    "import numpy as np\n",
    "import pandas as pd\n",
    "import time as time\n",
    "import os\n",
    "import pickle as pkl\n",
    "import matplotlib.ticker as mtick\n",
    "import matplotlib.pyplot as plt"
   ]
  },
  {
   "source": [
    "# Functions used for creating tables and plots shown in the paper.  "
   ],
   "cell_type": "markdown",
   "metadata": {}
  },
  {
   "cell_type": "code",
   "execution_count": null,
   "metadata": {},
   "outputs": [],
   "source": [
    "def CreateTablesTotReward(dictOfComb, dict_names):\n",
    "    methods_names, names_to_use = [], []\n",
    "    for met_name in list(dict_names.keys()):\n",
    "        methods_names.append(met_name)\n",
    "        names_to_use.append(dict_names[met_name])\n",
    "    cols = ['R:0, C:0', 'R:1, C:0', 'R:2, C:0', 'R:0, C:1', 'R:1, C:1', 'R:2, C:1']\n",
    "    rows_len, cols_len = len(methods_names) + 1, len(cols)\n",
    "    toRet = [np.zeros((rows_len, cols_len)), np.zeros((rows_len, cols_len)), \n",
    "        np.zeros((rows_len, cols_len))]\n",
    "\n",
    "    allExpNames  = list(dictOfComb.keys())\n",
    "\n",
    "    for expName  in allExpNames:\n",
    "        indexT = int(expName[0])\n",
    "        indexErRev= int(expName[-3])\n",
    "        indexErRow= int(expName[-1])\n",
    "        colNum = indexErRev + indexErRow*3\n",
    "\n",
    "        count_row = 0\n",
    "        for method_name in methods_names:\n",
    "            toRet[indexT][count_row, colNum] = np.round(\n",
    "                dictOfComb[expName][method_name +'_avg_tot_reward'], 1)\n",
    "            count_row += 1\n",
    "        toRet[indexT][count_row, colNum] = np.round(\n",
    "            dictOfComb[expName]['avg_best_offline'], 1)\n",
    "\n",
    "    return toRet\n",
    "\n",
    "def PlotRewardsOnTime(dictOfComb, dict_names, T_val, \n",
    "    indexT, window, nameToSave =None):\n",
    "    methods_names, names_to_use = [], []\n",
    "    for met_name in list(dict_names.keys()):\n",
    "        methods_names.append(met_name)\n",
    "        names_to_use.append(dict_names[met_name])\n",
    "    fig,a =  plt.subplots(3,2)\n",
    "    fig.set_size_inches(14, 18)\n",
    "    nameRewardsOnTime = [name + '_rewards_over_time' for name in methods_names]\n",
    "    allExpNames  = list(dictOfComb.keys())\n",
    "    valBestMvAvg = {}\n",
    "\n",
    "    posErrRow = [0.0, 0.1]\n",
    "    posErrRev = [0.0, 0.1, 0.5]\n",
    "    \n",
    "    listCombErr = ['(' + str(iRev) + ', ' + str(iRow) + ')'             \n",
    "                    for iRow in posErrRow\n",
    "                    for iRev in posErrRev]\n",
    "    \n",
    "    for i in range(len(methods_names)):\n",
    "        x = int(i/2)\n",
    "        y = i % 2\n",
    "        metDict = {}\n",
    "        for expName  in allExpNames:\n",
    "            if indexT == int(expName[0]):\n",
    "                indexErRev= int(expName[-3])\n",
    "                indexErRow= int(expName[-1])\n",
    "                \n",
    "                auxCumSum = (np.cumsum(dictOfComb[expName][nameRewardsOnTime[i]]))[:-window]\n",
    "                arrayToUse =auxCumSum[window:] - auxCumSum[:-window]\n",
    "                metDict['(' + str(posErrRev[indexErRev]) + ', ' + str(posErrRow[indexErRow]) + ')'] = arrayToUse\n",
    "                if i == 0:\n",
    "                    valBestMvAvg['(' + str(posErrRev[indexErRev]) + ', ' + str(posErrRow[indexErRow]) + ')'] = \\\n",
    "                        dictOfComb[expName]['avg_best_offline'] * window/T_val\n",
    "\n",
    "        for combErr in listCombErr:\n",
    "            a[x][y].plot(np.arange(len(metDict[combErr]))+window, metDict[combErr]/valBestMvAvg[combErr])\n",
    "        a[2][1].set_axis_off()\n",
    "        a[x][y].legend(listCombErr, prop={'size': 11})\n",
    "        a[x][y].set_title(names_to_use[i])\n",
    "        a[x][y].yaxis.set_major_formatter(mtick.PercentFormatter(1.0))\n",
    "    if nameToSave is not None:\n",
    "        plt.savefig(nameToSave + '.png')\n",
    "    plt.show()\n",
    "\n",
    "def tableForFullLatex(tables, namesForLatex, allCombs, indexT = 2):\n",
    "    for tabNumber, tabs in enumerate(tables):\n",
    "        for row in range(5):\n",
    "            print(namesForLatex[row] + ' & ' + str(allCombs[tabNumber][0]) + \" $\\\\times$ \" +\\\n",
    "                str(allCombs[tabNumber][1]) + ' & '+ \\\n",
    "                str(np.round((tabs[indexT][row,0]/tabs[indexT][5,0])*100, 1)) + \"\\% & \"+ \\\n",
    "                str(np.round((tabs[indexT][row,1]/tabs[indexT][5,1])*100, 1)) + \"\\% & \"+ \\\n",
    "                str(np.round((tabs[indexT][row,2]/tabs[indexT][5,2])*100, 1)) + \"\\% & \"+ \\\n",
    "                str(np.round((tabs[indexT][row,3]/tabs[indexT][5,3])*100, 1)) + \"\\% & \"+ \\\n",
    "                str(np.round((tabs[indexT][row,4]/tabs[indexT][5,4])*100, 1)) + \"\\% & \"+ \\\n",
    "                str(np.round((tabs[indexT][row,5]/tabs[indexT][5,5])*100, 1)) + \"\\% \\\\\\ \\hline\")\n",
    "        print(' \\hline')\n",
    "\n"
   ]
  },
  {
   "source": [
    "## Create a Dictionary with the aggregated information obtained when running createAggregatedData.py"
   ],
   "cell_type": "markdown",
   "metadata": {}
  },
  {
   "cell_type": "code",
   "execution_count": null,
   "metadata": {},
   "outputs": [],
   "source": [
    "aggResultsFolder = \\\n",
    "    '/Volumes/disk2s2/OnlineSetting/AggregatedResults/'\n",
    "\n",
    "allCombs = [[5,5], [5,10], [10,5], [10,10], [25,25],  [25,50], [50,25], [50,50]]\n",
    "\n",
    "dictAggPerComb = {}\n",
    "for i in range(0,8):\n",
    "    dictAggPerComb[str(allCombs[i][0])+'-'+str(allCombs[i][1])] = \\\n",
    "        pkl.load(open(aggResultsFolder + 'comb_' + str(i) + '.p', \"rb\"))"
   ]
  },
  {
   "source": [
    "## Obtain the plots shown in the paper"
   ],
   "cell_type": "markdown",
   "metadata": {}
  },
  {
   "source": [
    "Names as stored and how we want to show them on the graphs"
   ],
   "cell_type": "markdown",
   "metadata": {}
  },
  {
   "cell_type": "code",
   "execution_count": null,
   "metadata": {},
   "outputs": [],
   "source": [
    "mets_names_w_subg = ['MatrixApp-subg', 'ThompsonSampling-subg', 'RidgeReg-subg',\n",
    "    'RidgeRegPlusRandomness-subg', 'KnownThetaAst-subg'] #, 'FixTheta-subg'\n",
    "names_to_show = ['Least Squares', 'Thompson Sampling', 'Ridge Regression',\n",
    "    'Ridge Reg. + Uncertainty', 'Known Parameter'] #, 'Fix Parameter'\n",
    "dict_names = {mets_names_w_subg[i]: names_to_show[i] for i in range(len(mets_names_w_subg))}"
   ]
  },
  {
   "source": [
    "# Plots shown in the paper.\n",
    "\n",
    "For obtaining other combinations of $d \\times n$ simply change the pair of allCombs use. \n",
    "\n",
    "(We had allCombs = [(5,5), (5,10), (10,5), (10,10), (25,25),  (25,50), (50,25), (50,50)])"
   ],
   "cell_type": "markdown",
   "metadata": {}
  },
  {
   "source": [
    "Plot when d =5, n = 10"
   ],
   "cell_type": "markdown",
   "metadata": {}
  },
  {
   "cell_type": "code",
   "execution_count": null,
   "metadata": {},
   "outputs": [],
   "source": [
    "PlotRewardsOnTime(dictAggPerComb[str(allCombs[1][0])+'-'+str(allCombs[1][1])], dict_names,\n",
    "    10000, 2, 250, nameToSave = 'MvAvg250_5_10')"
   ]
  },
  {
   "source": [
    "Plot when d = n = 50"
   ],
   "cell_type": "markdown",
   "metadata": {}
  },
  {
   "cell_type": "code",
   "execution_count": null,
   "metadata": {},
   "outputs": [],
   "source": [
    "PlotRewardsOnTime(dictAggPerComb[str(allCombs[7][0])+'-'+str(allCombs[7][1])], dict_names,\n",
    "    10000, 2, 250, nameToSave = 'MvAvg250_50_50')"
   ]
  },
  {
   "source": [
    "# Create full tables on Latex format"
   ],
   "cell_type": "markdown",
   "metadata": {}
  },
  {
   "cell_type": "code",
   "execution_count": null,
   "metadata": {},
   "outputs": [],
   "source": [
    "tables = []\n",
    "for i in range(0,8):\n",
    "    tables.append(CreateTablesTotReward(dictAggPerComb[str(allCombs[i][0])+'-'+str(allCombs[i][1])], dict_names))\n",
    "names_to_show_table = ['Least Squares', 'Thompson Sampling', 'Ridge Regression',\n",
    "    'Ridge Reg. + Uncertainty', 'Known $\\\\theta^*$'] \n"
   ]
  },
  {
   "source": [
    "### Table for the case T = 1000"
   ],
   "cell_type": "markdown",
   "metadata": {}
  },
  {
   "cell_type": "code",
   "execution_count": null,
   "metadata": {},
   "outputs": [],
   "source": [
    "tableForFullLatex(tables, names_to_show_table, allCombs, indexT= 0)"
   ]
  },
  {
   "source": [
    "### Table for the case T = 5000"
   ],
   "cell_type": "markdown",
   "metadata": {}
  },
  {
   "cell_type": "code",
   "execution_count": null,
   "metadata": {},
   "outputs": [],
   "source": [
    "tableForFullLatex(tables, names_to_show_table, allCombs, indexT= 1)"
   ]
  },
  {
   "source": [
    "### Table for the case T = 10000"
   ],
   "cell_type": "markdown",
   "metadata": {}
  },
  {
   "cell_type": "code",
   "execution_count": null,
   "metadata": {},
   "outputs": [],
   "source": [
    "tableForFullLatex(tables, names_to_show_table, allCombs, indexT= 2)"
   ]
  },
  {
   "cell_type": "code",
   "execution_count": null,
   "metadata": {},
   "outputs": [],
   "source": []
  }
 ],
 "metadata": {
  "kernelspec": {
   "display_name": "Python 3",
   "language": "python",
   "name": "python3"
  },
  "language_info": {
   "codemirror_mode": {
    "name": "ipython",
    "version": 3
   },
   "file_extension": ".py",
   "mimetype": "text/x-python",
   "name": "python",
   "nbconvert_exporter": "python",
   "pygments_lexer": "ipython3",
   "version": "3.6.10-final"
  }
 },
 "nbformat": 4,
 "nbformat_minor": 4
}